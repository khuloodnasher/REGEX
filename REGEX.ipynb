{
  "nbformat": 4,
  "nbformat_minor": 0,
  "metadata": {
    "kernelspec": {
      "display_name": "learn-env",
      "language": "python",
      "name": "learn-env"
    },
    "language_info": {
      "codemirror_mode": {
        "name": "ipython",
        "version": 3
      },
      "file_extension": ".py",
      "mimetype": "text/x-python",
      "name": "python",
      "nbconvert_exporter": "python",
      "pygments_lexer": "ipython3",
      "version": "3.7.6"
    },
    "toc": {
      "base_numbering": 1,
      "nav_menu": {},
      "number_sections": true,
      "sideBar": true,
      "skip_h1_title": false,
      "title_cell": "Table of Contents",
      "title_sidebar": "Contents",
      "toc_cell": true,
      "toc_position": {},
      "toc_section_display": true,
      "toc_window_display": false
    },
    "varInspector": {
      "cols": {
        "lenName": 16,
        "lenType": 16,
        "lenVar": 40
      },
      "kernels_config": {
        "python": {
          "delete_cmd_postfix": "",
          "delete_cmd_prefix": "del ",
          "library": "var_list.py",
          "varRefreshCmd": "print(var_dic_list())"
        },
        "r": {
          "delete_cmd_postfix": ") ",
          "delete_cmd_prefix": "rm(",
          "library": "var_list.r",
          "varRefreshCmd": "cat(var_dic_list()) "
        }
      },
      "types_to_exclude": [
        "module",
        "function",
        "builtin_function_or_method",
        "instance",
        "_Feature"
      ],
      "window_display": false
    },
    "colab": {
      "name": "REGEX.ipynb",
      "provenance": [],
      "include_colab_link": true
    }
  },
  "cells": [
    {
      "cell_type": "markdown",
      "metadata": {
        "id": "view-in-github",
        "colab_type": "text"
      },
      "source": [
        "<a href=\"https://colab.research.google.com/github/khuloodnasher/REGEX/blob/main/REGEX.ipynb\" target=\"_parent\"><img src=\"https://colab.research.google.com/assets/colab-badge.svg\" alt=\"Open In Colab\"/></a>"
      ]
    },
    {
      "cell_type": "markdown",
      "metadata": {
        "toc": true,
        "id": "FsAdI4-fBh3X"
      },
      "source": [
        "<h1>Table of Contents<span class=\"tocSkip\"></span></h1>\n",
        "<div class=\"toc\"><ul class=\"toc-item\"><li><span><a href=\"#To-get-the-span-of-all-my-pattern-instances,-we-will-use-iteration-through-'finditer'-method\" data-toc-modified-id=\"To-get-the-span-of-all-my-pattern-instances,-we-will-use-iteration-through-'finditer'-method-1\"><span class=\"toc-item-num\">1&nbsp;&nbsp;</span>To get the span of all my pattern instances, we will use iteration through 'finditer' method</a></span></li><li><span><a href=\"#OR-Operator\" data-toc-modified-id=\"OR-Operator-2\"><span class=\"toc-item-num\">2&nbsp;&nbsp;</span>OR Operator</a></span></li><li><span><a href=\"#Exclusion\" data-toc-modified-id=\"Exclusion-3\"><span class=\"toc-item-num\">3&nbsp;&nbsp;</span>Exclusion</a></span></li></ul></div>"
      ]
    },
    {
      "cell_type": "code",
      "metadata": {
        "ExecuteTime": {
          "end_time": "2020-11-10T07:29:22.579904Z",
          "start_time": "2020-11-10T07:29:22.576688Z"
        },
        "id": "65QBdLxIBh3Y"
      },
      "source": [
        "import re\n",
        "my_text=\"Amazon's customer service phone number is 1-888-280-4331.You can call that number 24 hours a day\"\n",
        "\n",
        "my_pattern= 'number'"
      ],
      "execution_count": 2,
      "outputs": []
    },
    {
      "cell_type": "code",
      "metadata": {
        "ExecuteTime": {
          "end_time": "2020-11-08T04:01:20.719242Z",
          "start_time": "2020-11-08T04:01:20.712220Z"
        },
        "id": "OUvURMk4Bh3c",
        "outputId": "e831717b-0b75-4bfd-a6b1-cec242debab2",
        "colab": {
          "base_uri": "https://localhost:8080/"
        }
      },
      "source": [
        "# search method\n",
        "re.search(my_pattern,my_text)"
      ],
      "execution_count": 3,
      "outputs": [
        {
          "output_type": "execute_result",
          "data": {
            "text/plain": [
              "<_sre.SRE_Match object; span=(32, 38), match='number'>"
            ]
          },
          "metadata": {
            "tags": []
          },
          "execution_count": 3
        }
      ]
    },
    {
      "cell_type": "code",
      "metadata": {
        "ExecuteTime": {
          "end_time": "2020-11-08T04:26:25.717715Z",
          "start_time": "2020-11-08T04:26:25.712126Z"
        },
        "id": "sy_V59AZBh3g",
        "outputId": "74e1905a-6e14-4ed0-f011-a64555619ecc",
        "colab": {
          "base_uri": "https://localhost:8080/"
        }
      },
      "source": [
        "# findall method\n",
        "re.findall(my_pattern,my_text)"
      ],
      "execution_count": 4,
      "outputs": [
        {
          "output_type": "execute_result",
          "data": {
            "text/plain": [
              "['number', 'number']"
            ]
          },
          "metadata": {
            "tags": []
          },
          "execution_count": 4
        }
      ]
    },
    {
      "cell_type": "markdown",
      "metadata": {
        "id": "rT-w7hSbBh3j"
      },
      "source": [
        "### To get the span of all my pattern instances, we will use iteration through 'finditer' method"
      ]
    },
    {
      "cell_type": "code",
      "metadata": {
        "ExecuteTime": {
          "end_time": "2020-11-08T04:21:35.439302Z",
          "start_time": "2020-11-08T04:21:35.435920Z"
        },
        "id": "N3jVKJfbBh3k",
        "outputId": "969ea8ee-9406-41af-f11c-521575d866e1",
        "colab": {
          "base_uri": "https://localhost:8080/"
        }
      },
      "source": [
        "# itteration through finditer\n",
        "for pattern in re.finditer(my_pattern,my_text):\n",
        "    print(pattern.span())"
      ],
      "execution_count": 5,
      "outputs": [
        {
          "output_type": "stream",
          "text": [
            "(32, 38)\n",
            "(75, 81)\n"
          ],
          "name": "stdout"
        }
      ]
    },
    {
      "cell_type": "code",
      "metadata": {
        "ExecuteTime": {
          "end_time": "2020-11-08T05:32:13.206962Z",
          "start_time": "2020-11-08T05:32:13.202557Z"
        },
        "id": "yJT46j7ABh3n",
        "outputId": "2c2d9a2c-af1c-48e4-861d-eafe2d69b325",
        "colab": {
          "base_uri": "https://localhost:8080/"
        }
      },
      "source": [
        "# searching for phone number pattern\n",
        "phone = re.search(r'\\d-\\d\\d\\d-\\d\\d\\d-\\d\\d\\d\\d',my_text)\n",
        "phone"
      ],
      "execution_count": 6,
      "outputs": [
        {
          "output_type": "execute_result",
          "data": {
            "text/plain": [
              "<_sre.SRE_Match object; span=(42, 56), match='1-888-280-4331'>"
            ]
          },
          "metadata": {
            "tags": []
          },
          "execution_count": 6
        }
      ]
    },
    {
      "cell_type": "code",
      "metadata": {
        "ExecuteTime": {
          "end_time": "2020-11-08T08:10:54.467327Z",
          "start_time": "2020-11-08T08:10:54.461477Z"
        },
        "id": "Yy328WgVBh3p",
        "outputId": "e7915bd1-e4bd-46d2-ae74-bc66d03c3098",
        "colab": {
          "base_uri": "https://localhost:8080/"
        }
      },
      "source": [
        "#search with identifier and quantifier\n",
        "phone = re.search(r'\\d-\\d{3}-\\d{3}-\\d{4}',my_text)\n",
        "phone"
      ],
      "execution_count": 7,
      "outputs": [
        {
          "output_type": "execute_result",
          "data": {
            "text/plain": [
              "<_sre.SRE_Match object; span=(42, 56), match='1-888-280-4331'>"
            ]
          },
          "metadata": {
            "tags": []
          },
          "execution_count": 7
        }
      ]
    },
    {
      "cell_type": "code",
      "metadata": {
        "ExecuteTime": {
          "end_time": "2020-11-09T03:36:56.904221Z",
          "start_time": "2020-11-09T03:36:56.898568Z"
        },
        "id": "Gqsm0_bvBh3t",
        "outputId": "b133e5de-1e45-4100-b99e-859dcdbadd57",
        "colab": {
          "base_uri": "https://localhost:8080/"
        }
      },
      "source": [
        "#slicing with group method, make sure to use the paranthesis\n",
        "#group method start count at 1, group (0) and group() give the output of whole string\n",
        "phone = re.search(r'(\\d-)(\\d{3})-(\\d{3})-(\\d{4})',my_text)\n",
        "print(phone.group(0))\n",
        "print(phone.group(1))\n",
        "print(phone.group(2))\n",
        "print(phone.group(3))\n",
        "print(phone.group(4))\n",
        "print(phone.group())"
      ],
      "execution_count": 8,
      "outputs": [
        {
          "output_type": "stream",
          "text": [
            "1-888-280-4331\n",
            "1-\n",
            "888\n",
            "280\n",
            "4331\n",
            "1-888-280-4331\n"
          ],
          "name": "stdout"
        }
      ]
    },
    {
      "cell_type": "markdown",
      "metadata": {
        "id": "bNKdtJzUBh3w"
      },
      "source": [
        "### OR Operator"
      ]
    },
    {
      "cell_type": "code",
      "metadata": {
        "ExecuteTime": {
          "end_time": "2020-11-09T05:13:50.654835Z",
          "start_time": "2020-11-09T05:13:50.649342Z"
        },
        "id": "-mZx__tEBh3x",
        "outputId": "fc7c2ff8-457f-4bc6-9c76-8128b3b40c43",
        "colab": {
          "base_uri": "https://localhost:8080/"
        }
      },
      "source": [
        "# using | which means or\n",
        "my_text=\"Amazon's customer service phone number is 1-888-280-4331.You can call that number 24 hours a day\"\n",
        "print(re.findall('phone|number',my_text))\n",
        "\n",
        "print(re.search(r'phone|number',my_text))\n",
        "print(re.search(r'customer|phone',my_text))\n"
      ],
      "execution_count": 9,
      "outputs": [
        {
          "output_type": "stream",
          "text": [
            "['phone', 'number', 'number']\n",
            "<_sre.SRE_Match object; span=(26, 31), match='phone'>\n",
            "<_sre.SRE_Match object; span=(9, 17), match='customer'>\n"
          ],
          "name": "stdout"
        }
      ]
    },
    {
      "cell_type": "markdown",
      "metadata": {
        "id": "LZy2i_ksVr33"
      },
      "source": [
        ""
      ]
    },
    {
      "cell_type": "code",
      "metadata": {
        "ExecuteTime": {
          "end_time": "2020-11-09T07:04:40.424900Z",
          "start_time": "2020-11-09T07:04:40.419434Z"
        },
        "id": "-z8Y_RE5Bh3z",
        "outputId": "99c0029e-8dec-4a63-eaa9-300d56c72628",
        "colab": {
          "base_uri": "https://localhost:8080/"
        }
      },
      "source": [
        "# One or more word that has 'er'\n",
        "my_text=\"Amazon's customer service phone number is 1-888-280-4331.You can call that number 24 hours a day\"\n",
        "\n",
        "re.findall(r'\\w+er',my_text)"
      ],
      "execution_count": 10,
      "outputs": [
        {
          "output_type": "execute_result",
          "data": {
            "text/plain": [
              "['customer', 'ser', 'number', 'number']"
            ]
          },
          "metadata": {
            "tags": []
          },
          "execution_count": 10
        }
      ]
    },
    {
      "cell_type": "code",
      "metadata": {
        "ExecuteTime": {
          "end_time": "2020-11-09T07:18:45.346269Z",
          "start_time": "2020-11-09T07:18:45.342379Z"
        },
        "id": "wqJBXRi5Bh32",
        "outputId": "a9980c60-e9bf-406d-8b51-e097929ef18e",
        "colab": {
          "base_uri": "https://localhost:8080/"
        }
      },
      "source": [
        "# search patterns startwith\n",
        "my_text=\"Amazon's customer service phone number is 1-888-280-4331.You can call that number 24 hours a day\"\n",
        "print(re.findall(r'^\\w+',my_text))\n",
        "print(re.findall(r'^\\S+',my_text))\n"
      ],
      "execution_count": 11,
      "outputs": [
        {
          "output_type": "stream",
          "text": [
            "['Amazon']\n",
            "[\"Amazon's\"]\n"
          ],
          "name": "stdout"
        }
      ]
    },
    {
      "cell_type": "code",
      "metadata": {
        "ExecuteTime": {
          "end_time": "2020-11-09T07:23:28.079146Z",
          "start_time": "2020-11-09T07:23:28.073932Z"
        },
        "id": "tN5rQ12xBh34",
        "outputId": "a915de44-f120-4d52-c8cf-745190d3f99d",
        "colab": {
          "base_uri": "https://localhost:8080/"
        }
      },
      "source": [
        "# Search pattern ends with\n",
        "# One or more non-whitespace that ends with 'ay'\n",
        "re.findall(r'\\S+ay$',my_text)"
      ],
      "execution_count": 12,
      "outputs": [
        {
          "output_type": "execute_result",
          "data": {
            "text/plain": [
              "['day']"
            ]
          },
          "metadata": {
            "tags": []
          },
          "execution_count": 12
        }
      ]
    },
    {
      "cell_type": "code",
      "metadata": {
        "ExecuteTime": {
          "end_time": "2020-11-09T07:21:36.589921Z",
          "start_time": "2020-11-09T07:21:36.585098Z"
        },
        "id": "Rzv--q6HBh36",
        "outputId": "ff1eb120-3915-45b6-96d3-37efa3581957",
        "colab": {
          "base_uri": "https://localhost:8080/"
        }
      },
      "source": [
        "# One or more non-whitespace that contains er\n",
        "re.findall(r'\\S+er',my_text)"
      ],
      "execution_count": 13,
      "outputs": [
        {
          "output_type": "execute_result",
          "data": {
            "text/plain": [
              "['customer', 'ser', 'number', 'number']"
            ]
          },
          "metadata": {
            "tags": []
          },
          "execution_count": 13
        }
      ]
    },
    {
      "cell_type": "code",
      "metadata": {
        "ExecuteTime": {
          "end_time": "2020-11-09T07:40:07.198856Z",
          "start_time": "2020-11-09T07:40:07.194121Z"
        },
        "id": "VJ69Rvt6Bh38",
        "outputId": "f4009af7-6301-4a38-939c-c8664c267941",
        "colab": {
          "base_uri": "https://localhost:8080/"
        }
      },
      "source": [
        "my_text=\"Amazon's customer service phone-number is 1-888-280-4331.You can call that number 24 hours a day\"\n",
        "re.findall(r'[\\w]+-[\\w]+',my_text)"
      ],
      "execution_count": 14,
      "outputs": [
        {
          "output_type": "execute_result",
          "data": {
            "text/plain": [
              "['phone-number', '1-888', '280-4331']"
            ]
          },
          "metadata": {
            "tags": []
          },
          "execution_count": 14
        }
      ]
    },
    {
      "cell_type": "markdown",
      "metadata": {
        "id": "wnVd4Bo6Bh3-"
      },
      "source": [
        "### Exclusion\n",
        "Any content can be excluded if it is put inside square brackets and ^ "
      ]
    },
    {
      "cell_type": "code",
      "metadata": {
        "ExecuteTime": {
          "end_time": "2020-11-10T17:37:12.010508Z",
          "start_time": "2020-11-10T17:37:12.004377Z"
        },
        "id": "kj1tuR7yBh3_",
        "outputId": "01d1b423-ac12-476c-c3f1-9c52c765831a",
        "colab": {
          "base_uri": "https://localhost:8080/"
        }
      },
      "source": [
        "my_text=\"Amazon's customer service phone number is 1-888-280-4331.You can call that number 24 hours a day\"\n",
        "\n",
        "print(re.findall(r'[^\\d]',my_text))\n",
        "\n",
        "# to  exclude specific content like digits and keep the rest as words, we just add plus sign\n",
        "re.findall(r'[^\\d]+',my_text)\n"
      ],
      "execution_count": 15,
      "outputs": [
        {
          "output_type": "stream",
          "text": [
            "['A', 'm', 'a', 'z', 'o', 'n', \"'\", 's', ' ', 'c', 'u', 's', 't', 'o', 'm', 'e', 'r', ' ', 's', 'e', 'r', 'v', 'i', 'c', 'e', ' ', 'p', 'h', 'o', 'n', 'e', ' ', 'n', 'u', 'm', 'b', 'e', 'r', ' ', 'i', 's', ' ', '-', '-', '-', '.', 'Y', 'o', 'u', ' ', 'c', 'a', 'n', ' ', 'c', 'a', 'l', 'l', ' ', 't', 'h', 'a', 't', ' ', 'n', 'u', 'm', 'b', 'e', 'r', ' ', ' ', 'h', 'o', 'u', 'r', 's', ' ', 'a', ' ', 'd', 'a', 'y']\n"
          ],
          "name": "stdout"
        },
        {
          "output_type": "execute_result",
          "data": {
            "text/plain": [
              "[\"Amazon's customer service phone number is \",\n",
              " '-',\n",
              " '-',\n",
              " '-',\n",
              " '.You can call that number ',\n",
              " ' hours a day']"
            ]
          },
          "metadata": {
            "tags": []
          },
          "execution_count": 15
        }
      ]
    },
    {
      "cell_type": "code",
      "metadata": {
        "ExecuteTime": {
          "end_time": "2020-11-10T20:57:00.955124Z",
          "start_time": "2020-11-10T20:57:00.947879Z"
        },
        "id": "JRZ-3o7UBh4B",
        "outputId": "66802d3e-ea7b-4b60-fd7d-5290dc47d4e3",
        "colab": {
          "base_uri": "https://localhost:8080/",
          "height": 72
        }
      },
      "source": [
        "# Cleaning from Panctuation\n",
        "\n",
        "my_text=\"Amazon's customer service phone number is 1-888-280-4331.You can call that number 24 hours a day!,is this helpful?\"\n",
        "\n",
        "#re.findall(r'[^.- ]+',my_text)\n",
        "print(re.findall('[^!.? ,]+',my_text))\n",
        "# to have the clean text as a string\n",
        "clean_text = ' '.join(re.findall('[^!.?,]+',my_text))\n",
        "clean_text"
      ],
      "execution_count": 16,
      "outputs": [
        {
          "output_type": "stream",
          "text": [
            "[\"Amazon's\", 'customer', 'service', 'phone', 'number', 'is', '1-888-280-4331', 'You', 'can', 'call', 'that', 'number', '24', 'hours', 'a', 'day', 'is', 'this', 'helpful']\n"
          ],
          "name": "stdout"
        },
        {
          "output_type": "execute_result",
          "data": {
            "application/vnd.google.colaboratory.intrinsic+json": {
              "type": "string"
            },
            "text/plain": [
              "\"Amazon's customer service phone number is 1-888-280-4331 You can call that number 24 hours a day is this helpful\""
            ]
          },
          "metadata": {
            "tags": []
          },
          "execution_count": 16
        }
      ]
    },
    {
      "cell_type": "code",
      "metadata": {
        "id": "hB89XFgNBh4D"
      },
      "source": [
        ""
      ],
      "execution_count": 16,
      "outputs": []
    }
  ]
}