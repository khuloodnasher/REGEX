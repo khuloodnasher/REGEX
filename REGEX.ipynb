{
  "nbformat": 4,
  "nbformat_minor": 0,
  "metadata": {
    "kernelspec": {
      "display_name": "learn-env",
      "language": "python",
      "name": "learn-env"
    },
    "language_info": {
      "codemirror_mode": {
        "name": "ipython",
        "version": 3
      },
      "file_extension": ".py",
      "mimetype": "text/x-python",
      "name": "python",
      "nbconvert_exporter": "python",
      "pygments_lexer": "ipython3",
      "version": "3.7.6"
    },
    "toc": {
      "base_numbering": 1,
      "nav_menu": {},
      "number_sections": true,
      "sideBar": true,
      "skip_h1_title": false,
      "title_cell": "Table of Contents",
      "title_sidebar": "Contents",
      "toc_cell": true,
      "toc_position": {},
      "toc_section_display": true,
      "toc_window_display": false
    },
    "varInspector": {
      "cols": {
        "lenName": 16,
        "lenType": 16,
        "lenVar": 40
      },
      "kernels_config": {
        "python": {
          "delete_cmd_postfix": "",
          "delete_cmd_prefix": "del ",
          "library": "var_list.py",
          "varRefreshCmd": "print(var_dic_list())"
        },
        "r": {
          "delete_cmd_postfix": ") ",
          "delete_cmd_prefix": "rm(",
          "library": "var_list.r",
          "varRefreshCmd": "cat(var_dic_list()) "
        }
      },
      "types_to_exclude": [
        "module",
        "function",
        "builtin_function_or_method",
        "instance",
        "_Feature"
      ],
      "window_display": false
    },
    "colab": {
      "name": "REGEX.ipynb",
      "provenance": [],
      "include_colab_link": true
    }
  },
  "cells": [
    {
      "cell_type": "markdown",
      "metadata": {
        "id": "view-in-github",
        "colab_type": "text"
      },
      "source": [
        "<a href=\"https://colab.research.google.com/github/khuloodnasher/REGEX/blob/main/REGEX.ipynb\" target=\"_parent\"><img src=\"https://colab.research.google.com/assets/colab-badge.svg\" alt=\"Open In Colab\"/></a>"
      ]
    },
    {
      "cell_type": "markdown",
      "metadata": {
        "toc": true,
        "id": "FsAdI4-fBh3X"
      },
      "source": [
        "<h1>Table of Contents<span class=\"tocSkip\"></span></h1>\n",
        "<div class=\"toc\"><ul class=\"toc-item\"><li><span><a href=\"#To-get-the-span-of-all-my-pattern-instances,-we-will-use-iteration-through-'finditer'-method\" data-toc-modified-id=\"To-get-the-span-of-all-my-pattern-instances,-we-will-use-iteration-through-'finditer'-method-1\"><span class=\"toc-item-num\">1&nbsp;&nbsp;</span>To get the span of all my pattern instances, we will use iteration through 'finditer' method</a></span></li><li><span><a href=\"#OR-Operator\" data-toc-modified-id=\"OR-Operator-2\"><span class=\"toc-item-num\">2&nbsp;&nbsp;</span>OR Operator</a></span></li><li><span><a href=\"#Exclusion\" data-toc-modified-id=\"Exclusion-3\"><span class=\"toc-item-num\">3&nbsp;&nbsp;</span>Exclusion</a></span></li></ul></div>"
      ]
    },
    {
      "cell_type": "code",
      "metadata": {
        "ExecuteTime": {
          "end_time": "2020-11-10T07:29:22.579904Z",
          "start_time": "2020-11-10T07:29:22.576688Z"
        },
        "id": "65QBdLxIBh3Y"
      },
      "source": [
        "import re\n",
        "my_text=\"Amazon's customer service phone number is 1-888-280-4331.You can call that number 24 hours a day\"\n",
        "\n",
        "my_pattern= 'number'"
      ],
      "execution_count": null,
      "outputs": []
    },
    {
      "cell_type": "code",
      "metadata": {
        "ExecuteTime": {
          "end_time": "2020-11-08T04:01:20.719242Z",
          "start_time": "2020-11-08T04:01:20.712220Z"
        },
        "id": "OUvURMk4Bh3c",
        "outputId": "e9d6505b-fd4b-4b6a-8afc-ed6b790e951c"
      },
      "source": [
        "# search method\n",
        "re.search(my_pattern,my_text)"
      ],
      "execution_count": null,
      "outputs": [
        {
          "output_type": "execute_result",
          "data": {
            "text/plain": [
              "<re.Match object; span=(32, 38), match='number'>"
            ]
          },
          "metadata": {
            "tags": []
          },
          "execution_count": 12
        }
      ]
    },
    {
      "cell_type": "code",
      "metadata": {
        "ExecuteTime": {
          "end_time": "2020-11-08T04:26:25.717715Z",
          "start_time": "2020-11-08T04:26:25.712126Z"
        },
        "id": "sy_V59AZBh3g",
        "outputId": "b83a9e07-beb5-42a7-ee70-2f4f9a80fed6"
      },
      "source": [
        "# findall method\n",
        "re.findall(my_pattern,my_text)"
      ],
      "execution_count": null,
      "outputs": [
        {
          "output_type": "execute_result",
          "data": {
            "text/plain": [
              "['number', 'number']"
            ]
          },
          "metadata": {
            "tags": []
          },
          "execution_count": 16
        }
      ]
    },
    {
      "cell_type": "markdown",
      "metadata": {
        "id": "rT-w7hSbBh3j"
      },
      "source": [
        "### To get the span of all my pattern instances, we will use iteration through 'finditer' method"
      ]
    },
    {
      "cell_type": "code",
      "metadata": {
        "ExecuteTime": {
          "end_time": "2020-11-08T04:21:35.439302Z",
          "start_time": "2020-11-08T04:21:35.435920Z"
        },
        "id": "N3jVKJfbBh3k",
        "outputId": "5a61928c-f035-47a3-db63-75f5873fad12"
      },
      "source": [
        "# itteration through finditer\n",
        "for pattern in re.finditer(my_pattern,my_text):\n",
        "    print(pattern.span())"
      ],
      "execution_count": null,
      "outputs": [
        {
          "output_type": "stream",
          "text": [
            "(32, 38)\n",
            "(75, 81)\n"
          ],
          "name": "stdout"
        }
      ]
    },
    {
      "cell_type": "code",
      "metadata": {
        "ExecuteTime": {
          "end_time": "2020-11-08T05:32:13.206962Z",
          "start_time": "2020-11-08T05:32:13.202557Z"
        },
        "id": "yJT46j7ABh3n",
        "outputId": "e44f338e-76fd-48de-be1f-4517cbacf7b7"
      },
      "source": [
        "# searching for phone number pattern\n",
        "phone = re.search(r'\\d-\\d\\d\\d-\\d\\d\\d-\\d\\d\\d\\d',my_text)\n",
        "phone"
      ],
      "execution_count": null,
      "outputs": [
        {
          "output_type": "execute_result",
          "data": {
            "text/plain": [
              "<re.Match object; span=(42, 56), match='1-888-280-4331'>"
            ]
          },
          "metadata": {
            "tags": []
          },
          "execution_count": 18
        }
      ]
    },
    {
      "cell_type": "code",
      "metadata": {
        "ExecuteTime": {
          "end_time": "2020-11-08T08:10:54.467327Z",
          "start_time": "2020-11-08T08:10:54.461477Z"
        },
        "id": "Yy328WgVBh3p",
        "outputId": "d41f374c-a6cb-479b-a02e-a76cb4003243"
      },
      "source": [
        "#search with identifier and quantifier\n",
        "phone = re.search(r'\\d-\\d{3}-\\d{3}-\\d{4}',my_text)\n",
        "phone"
      ],
      "execution_count": null,
      "outputs": [
        {
          "output_type": "execute_result",
          "data": {
            "text/plain": [
              "<re.Match object; span=(42, 56), match='1-888-280-4331'>"
            ]
          },
          "metadata": {
            "tags": []
          },
          "execution_count": 19
        }
      ]
    },
    {
      "cell_type": "code",
      "metadata": {
        "ExecuteTime": {
          "end_time": "2020-11-09T03:36:56.904221Z",
          "start_time": "2020-11-09T03:36:56.898568Z"
        },
        "id": "Gqsm0_bvBh3t",
        "outputId": "f3ed7ed5-8fb1-4cc8-8079-3e546335d977"
      },
      "source": [
        "#slicing with group method, make sure to use the paranthesis\n",
        "#group method start count at 1, group (0) and group() give the output of whole string\n",
        "phone = re.search(r'(\\d-)(\\d{3})-(\\d{3})-(\\d{4})',my_text)\n",
        "print(phone.group(0))\n",
        "print(phone.group(1))\n",
        "print(phone.group(2))\n",
        "print(phone.group(3))\n",
        "print(phone.group(4))\n",
        "print(phone.group())"
      ],
      "execution_count": null,
      "outputs": [
        {
          "output_type": "stream",
          "text": [
            "1-888-280-4331\n",
            "1-\n",
            "888\n",
            "280\n",
            "4331\n",
            "1-888-280-4331\n"
          ],
          "name": "stdout"
        }
      ]
    },
    {
      "cell_type": "markdown",
      "metadata": {
        "id": "bNKdtJzUBh3w"
      },
      "source": [
        "### OR Operator"
      ]
    },
    {
      "cell_type": "code",
      "metadata": {
        "ExecuteTime": {
          "end_time": "2020-11-09T05:13:50.654835Z",
          "start_time": "2020-11-09T05:13:50.649342Z"
        },
        "id": "-mZx__tEBh3x",
        "outputId": "72710452-16ee-46f9-cb7b-508cbbfccb21"
      },
      "source": [
        "# using | which means or\n",
        "my_text=\"Amazon's customer service phone number is 1-888-280-4331.You can call that number 24 hours a day\"\n",
        "print(re.findall('phone|number',my_text))\n",
        "\n",
        "print(re.search(r'phone|number',my_text))\n",
        "print(re.search(r'customer|phone',my_text))\n"
      ],
      "execution_count": null,
      "outputs": [
        {
          "output_type": "stream",
          "text": [
            "['phone', 'number', 'number']\n",
            "<re.Match object; span=(26, 31), match='phone'>\n",
            "<re.Match object; span=(9, 17), match='customer'>\n"
          ],
          "name": "stdout"
        }
      ]
    },
    {
      "cell_type": "code",
      "metadata": {
        "ExecuteTime": {
          "end_time": "2020-11-09T07:04:40.424900Z",
          "start_time": "2020-11-09T07:04:40.419434Z"
        },
        "id": "-z8Y_RE5Bh3z",
        "outputId": "148b216b-da2c-4315-c690-4b8b11928027"
      },
      "source": [
        "# One or more non-whitespace that ends with 'at'\n",
        "re.findall(r'\\w+at',\"The bat went splat\")"
      ],
      "execution_count": null,
      "outputs": [
        {
          "output_type": "execute_result",
          "data": {
            "text/plain": [
              "['bat', 'splat']"
            ]
          },
          "metadata": {
            "tags": []
          },
          "execution_count": 70
        }
      ]
    },
    {
      "cell_type": "code",
      "metadata": {
        "ExecuteTime": {
          "end_time": "2020-11-09T07:18:45.346269Z",
          "start_time": "2020-11-09T07:18:45.342379Z"
        },
        "id": "wqJBXRi5Bh32",
        "outputId": "45a06bca-f247-4165-f4a7-b9eaf76ddf4a"
      },
      "source": [
        "# search patterns startwith\n",
        "my_text=\"Amazon's customer service phone number is 1-888-280-4331.You can call that number 24 hours a day\"\n",
        "print(re.findall(r'^\\w+',my_text))\n",
        "print(re.findall(r'^\\S+',my_text))\n"
      ],
      "execution_count": null,
      "outputs": [
        {
          "output_type": "stream",
          "text": [
            "['Amazon']\n",
            "[\"Amazon's\"]\n"
          ],
          "name": "stdout"
        }
      ]
    },
    {
      "cell_type": "code",
      "metadata": {
        "ExecuteTime": {
          "end_time": "2020-11-09T07:23:28.079146Z",
          "start_time": "2020-11-09T07:23:28.073932Z"
        },
        "id": "tN5rQ12xBh34",
        "outputId": "4bb3ba26-697c-49b6-ad72-6837670b5e37"
      },
      "source": [
        "# Search pattern ends with\n",
        "# One or more non-whitespace that ends with 'ay'\n",
        "re.findall(r'\\S+ay$',my_text)"
      ],
      "execution_count": null,
      "outputs": [
        {
          "output_type": "execute_result",
          "data": {
            "text/plain": [
              "['day']"
            ]
          },
          "metadata": {
            "tags": []
          },
          "execution_count": 99
        }
      ]
    },
    {
      "cell_type": "code",
      "metadata": {
        "ExecuteTime": {
          "end_time": "2020-11-09T07:21:36.589921Z",
          "start_time": "2020-11-09T07:21:36.585098Z"
        },
        "id": "Rzv--q6HBh36",
        "outputId": "0a491925-e4ce-4d56-d584-1d3e309d9b89"
      },
      "source": [
        "# One or more non-whitespace that contains er\n",
        "re.findall(r'\\S+er',my_text)"
      ],
      "execution_count": null,
      "outputs": [
        {
          "output_type": "execute_result",
          "data": {
            "text/plain": [
              "['customer', 'ser', 'number', 'number']"
            ]
          },
          "metadata": {
            "tags": []
          },
          "execution_count": 96
        }
      ]
    },
    {
      "cell_type": "code",
      "metadata": {
        "ExecuteTime": {
          "end_time": "2020-11-09T07:40:07.198856Z",
          "start_time": "2020-11-09T07:40:07.194121Z"
        },
        "id": "VJ69Rvt6Bh38",
        "outputId": "b1428d46-cba2-477e-c8e6-57b883a81cf4"
      },
      "source": [
        "my_text=\"Amazon's customer service phone-number is 1-888-280-4331.You can call that number 24 hours a day\"\n",
        "re.findall(r'[\\w]+-[\\w]+',my_text)"
      ],
      "execution_count": null,
      "outputs": [
        {
          "output_type": "execute_result",
          "data": {
            "text/plain": [
              "['phone-number', '1-888', '280-4331']"
            ]
          },
          "metadata": {
            "tags": []
          },
          "execution_count": 118
        }
      ]
    },
    {
      "cell_type": "markdown",
      "metadata": {
        "id": "wnVd4Bo6Bh3-"
      },
      "source": [
        "### Exclusion\n",
        "Any content can be excluded if it is put inside square brackets and ^ "
      ]
    },
    {
      "cell_type": "code",
      "metadata": {
        "ExecuteTime": {
          "end_time": "2020-11-10T17:37:12.010508Z",
          "start_time": "2020-11-10T17:37:12.004377Z"
        },
        "id": "kj1tuR7yBh3_",
        "outputId": "52ec2b5a-8124-42bf-e103-88b22dace3b2"
      },
      "source": [
        "my_text=\"Amazon's customer service phone number is 1-888-280-4331.You can call that number 24 hours a day\"\n",
        "\n",
        "print(re.findall(r'[^\\d]',my_text))\n",
        "\n",
        "# to  exclude specific content like digits and keep the rest as words, we just add plus sign\n",
        "re.findall(r'[^\\d]+',my_text)\n"
      ],
      "execution_count": null,
      "outputs": [
        {
          "output_type": "stream",
          "text": [
            "['A', 'm', 'a', 'z', 'o', 'n', \"'\", 's', ' ', 'c', 'u', 's', 't', 'o', 'm', 'e', 'r', ' ', 's', 'e', 'r', 'v', 'i', 'c', 'e', ' ', 'p', 'h', 'o', 'n', 'e', ' ', 'n', 'u', 'm', 'b', 'e', 'r', ' ', 'i', 's', ' ', '-', '-', '-', '.', 'Y', 'o', 'u', ' ', 'c', 'a', 'n', ' ', 'c', 'a', 'l', 'l', ' ', 't', 'h', 'a', 't', ' ', 'n', 'u', 'm', 'b', 'e', 'r', ' ', ' ', 'h', 'o', 'u', 'r', 's', ' ', 'a', ' ', 'd', 'a', 'y']\n"
          ],
          "name": "stdout"
        },
        {
          "output_type": "execute_result",
          "data": {
            "text/plain": [
              "[\"Amazon's customer service phone number is \",\n",
              " '-',\n",
              " '-',\n",
              " '-',\n",
              " '.You can call that number ',\n",
              " ' hours a day']"
            ]
          },
          "metadata": {
            "tags": []
          },
          "execution_count": 17
        }
      ]
    },
    {
      "cell_type": "code",
      "metadata": {
        "ExecuteTime": {
          "end_time": "2020-11-10T20:57:00.955124Z",
          "start_time": "2020-11-10T20:57:00.947879Z"
        },
        "id": "JRZ-3o7UBh4B",
        "outputId": "88548fe1-ed79-4c1d-e788-dfedcf63f2c3"
      },
      "source": [
        "# Cleaning from Panctuation\n",
        "\n",
        "my_text=\"Amazon's customer service phone number is 1-888-280-4331.You can call that number 24 hours a day!,is this helpful?\"\n",
        "\n",
        "#re.findall(r'[^.- ]+',my_text)\n",
        "print(re.findall('[^!.? ,]+',my_text))\n",
        "# to have the clean text as a string\n",
        "clean_text = ' '.join(re.findall('[^!.?,]+',my_text))\n",
        "clean_text"
      ],
      "execution_count": null,
      "outputs": [
        {
          "output_type": "stream",
          "text": [
            "[\"Amazon's\", 'customer', 'service', 'phone', 'number', 'is', '1-888-280-4331', 'You', 'can', 'call', 'that', 'number', '24', 'hours', 'a', 'day', 'is', 'this', 'helpful']\n"
          ],
          "name": "stdout"
        },
        {
          "output_type": "execute_result",
          "data": {
            "text/plain": [
              "\"Amazon's customer service phone number is 1-888-280-4331 You can call that number 24 hours a day is this helpful\""
            ]
          },
          "metadata": {
            "tags": []
          },
          "execution_count": 26
        }
      ]
    },
    {
      "cell_type": "code",
      "metadata": {
        "id": "hB89XFgNBh4D"
      },
      "source": [
        ""
      ],
      "execution_count": null,
      "outputs": []
    }
  ]
}