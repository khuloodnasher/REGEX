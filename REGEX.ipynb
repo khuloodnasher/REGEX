{
  "nbformat": 4,
  "nbformat_minor": 0,
  "metadata": {
    "kernelspec": {
      "display_name": "learn-env",
      "language": "python",
      "name": "learn-env"
    },
    "language_info": {
      "codemirror_mode": {
        "name": "ipython",
        "version": 3
      },
      "file_extension": ".py",
      "mimetype": "text/x-python",
      "name": "python",
      "nbconvert_exporter": "python",
      "pygments_lexer": "ipython3",
      "version": "3.7.6"
    },
    "toc": {
      "base_numbering": 1,
      "nav_menu": {},
      "number_sections": true,
      "sideBar": true,
      "skip_h1_title": false,
      "title_cell": "Table of Contents",
      "title_sidebar": "Contents",
      "toc_cell": true,
      "toc_position": {},
      "toc_section_display": true,
      "toc_window_display": false
    },
    "varInspector": {
      "cols": {
        "lenName": 16,
        "lenType": 16,
        "lenVar": 40
      },
      "kernels_config": {
        "python": {
          "delete_cmd_postfix": "",
          "delete_cmd_prefix": "del ",
          "library": "var_list.py",
          "varRefreshCmd": "print(var_dic_list())"
        },
        "r": {
          "delete_cmd_postfix": ") ",
          "delete_cmd_prefix": "rm(",
          "library": "var_list.r",
          "varRefreshCmd": "cat(var_dic_list()) "
        }
      },
      "types_to_exclude": [
        "module",
        "function",
        "builtin_function_or_method",
        "instance",
        "_Feature"
      ],
      "window_display": false
    },
    "colab": {
      "name": "REGEX.ipynb",
      "provenance": [],
      "include_colab_link": true
    }
  },
  "cells": [
    {
      "cell_type": "markdown",
      "metadata": {
        "id": "view-in-github",
        "colab_type": "text"
      },
      "source": [
        "<a href=\"https://colab.research.google.com/github/khuloodnasher/REGEX/blob/main/REGEX.ipynb\" target=\"_parent\"><img src=\"https://colab.research.google.com/assets/colab-badge.svg\" alt=\"Open In Colab\"/></a>"
      ]
    },
    {
      "cell_type": "code",
      "metadata": {
        "ExecuteTime": {
          "end_time": "2020-11-08T04:01:17.448000Z",
          "start_time": "2020-11-08T04:01:17.444703Z"
        },
        "id": "9Rj9Xw6s-ySn"
      },
      "source": [
        "import re\n",
        "my_text=\"Amazon's customer service phone number is 1-888-280-4331.You can call that number 24 hours a day\"\n",
        "\n",
        "my_pattern= 'number'"
      ],
      "execution_count": null,
      "outputs": []
    },
    {
      "cell_type": "code",
      "metadata": {
        "ExecuteTime": {
          "end_time": "2020-11-08T04:01:20.719242Z",
          "start_time": "2020-11-08T04:01:20.712220Z"
        },
        "id": "fEJk12Iq-ySr",
        "outputId": "c756a5a1-b3a5-46e3-f1c2-a996d465bab3"
      },
      "source": [
        "# search method\n",
        "re.search(my_pattern,my_text)"
      ],
      "execution_count": null,
      "outputs": [
        {
          "output_type": "execute_result",
          "data": {
            "text/plain": [
              "<re.Match object; span=(32, 38), match='number'>"
            ]
          },
          "metadata": {
            "tags": []
          },
          "execution_count": 12
        }
      ]
    },
    {
      "cell_type": "code",
      "metadata": {
        "ExecuteTime": {
          "end_time": "2020-11-08T04:26:25.717715Z",
          "start_time": "2020-11-08T04:26:25.712126Z"
        },
        "id": "r-XlZeLL-ySv",
        "outputId": "0ceb8ab0-2038-476f-d2ee-b8f56f6df27a"
      },
      "source": [
        "# findall method\n",
        "re.findall(my_pattern,my_text)"
      ],
      "execution_count": null,
      "outputs": [
        {
          "output_type": "execute_result",
          "data": {
            "text/plain": [
              "['number', 'number']"
            ]
          },
          "metadata": {
            "tags": []
          },
          "execution_count": 16
        }
      ]
    },
    {
      "cell_type": "markdown",
      "metadata": {
        "id": "VRhmnZ-6-ySx"
      },
      "source": [
        "### To get the span of all my pattern instances, we will use iteration through 'finditer' method"
      ]
    },
    {
      "cell_type": "code",
      "metadata": {
        "ExecuteTime": {
          "end_time": "2020-11-08T04:21:35.439302Z",
          "start_time": "2020-11-08T04:21:35.435920Z"
        },
        "id": "iE64mG30-ySy",
        "outputId": "9e599096-6a9c-42af-87f7-e4af85523e74"
      },
      "source": [
        "# itteration through finditer\n",
        "for pattern in re.finditer(my_pattern,my_text):\n",
        "    print(pattern.span())"
      ],
      "execution_count": null,
      "outputs": [
        {
          "output_type": "stream",
          "text": [
            "(32, 38)\n",
            "(75, 81)\n"
          ],
          "name": "stdout"
        }
      ]
    },
    {
      "cell_type": "code",
      "metadata": {
        "ExecuteTime": {
          "end_time": "2020-11-08T05:32:13.206962Z",
          "start_time": "2020-11-08T05:32:13.202557Z"
        },
        "id": "iL6kcY_P-yS0",
        "outputId": "fb13eb03-8783-45ff-85e9-e20a0efbc4e1"
      },
      "source": [
        "# searching for phone number pattern\n",
        "phone = re.search(r'\\d-\\d\\d\\d-\\d\\d\\d-\\d\\d\\d\\d',my_text)\n",
        "phone"
      ],
      "execution_count": null,
      "outputs": [
        {
          "output_type": "execute_result",
          "data": {
            "text/plain": [
              "<re.Match object; span=(42, 56), match='1-888-280-4331'>"
            ]
          },
          "metadata": {
            "tags": []
          },
          "execution_count": 18
        }
      ]
    },
    {
      "cell_type": "code",
      "metadata": {
        "ExecuteTime": {
          "end_time": "2020-11-08T08:10:54.467327Z",
          "start_time": "2020-11-08T08:10:54.461477Z"
        },
        "id": "jj3K35_2-yS2",
        "outputId": "3db6e885-744b-48df-bf62-0d2acebf1d41"
      },
      "source": [
        "#search with identifier and quantifier\n",
        "phone = re.search(r'\\d-\\d{3}-\\d{3}-\\d{4}',my_text)\n",
        "phone"
      ],
      "execution_count": null,
      "outputs": [
        {
          "output_type": "execute_result",
          "data": {
            "text/plain": [
              "<re.Match object; span=(42, 56), match='1-888-280-4331'>"
            ]
          },
          "metadata": {
            "tags": []
          },
          "execution_count": 19
        }
      ]
    },
    {
      "cell_type": "code",
      "metadata": {
        "ExecuteTime": {
          "end_time": "2020-11-09T03:36:56.904221Z",
          "start_time": "2020-11-09T03:36:56.898568Z"
        },
        "id": "iRkxOnH4-yS5",
        "outputId": "3f3c5803-7649-425e-8c39-da2899d48c85"
      },
      "source": [
        "#slicing with group method, make sure to use the paranthesis\n",
        "#group method start count at 1, group (0) and group() give the output of whole string\n",
        "phone = re.search(r'(\\d-)(\\d{3})-(\\d{3})-(\\d{4})',my_text)\n",
        "print(phone.group(0))\n",
        "print(phone.group(1))\n",
        "print(phone.group(2))\n",
        "print(phone.group(3))\n",
        "print(phone.group(4))\n",
        "print(phone.group())"
      ],
      "execution_count": null,
      "outputs": [
        {
          "output_type": "stream",
          "text": [
            "1-888-280-4331\n",
            "1-\n",
            "888\n",
            "280\n",
            "4331\n",
            "1-888-280-4331\n"
          ],
          "name": "stdout"
        }
      ]
    },
    {
      "cell_type": "markdown",
      "metadata": {
        "id": "n75KgB8h-yS8"
      },
      "source": [
        "### OR Operator"
      ]
    },
    {
      "cell_type": "code",
      "metadata": {
        "ExecuteTime": {
          "end_time": "2020-11-09T05:13:50.654835Z",
          "start_time": "2020-11-09T05:13:50.649342Z"
        },
        "id": "oTwb6NKT-yS9",
        "outputId": "77d9321a-7e64-466e-bd9d-4f2e0ac58480"
      },
      "source": [
        "# using | which means or\n",
        "my_text=\"Amazon's customer service phone number is 1-888-280-4331.You can call that number 24 hours a day\"\n",
        "print(re.findall('phone|number',my_text))\n",
        "\n",
        "print(re.search(r'phone|number',my_text))\n",
        "print(re.search(r'customer|phone',my_text))\n"
      ],
      "execution_count": null,
      "outputs": [
        {
          "output_type": "stream",
          "text": [
            "['phone', 'number', 'number']\n",
            "<re.Match object; span=(26, 31), match='phone'>\n",
            "<re.Match object; span=(9, 17), match='customer'>\n"
          ],
          "name": "stdout"
        }
      ]
    },
    {
      "cell_type": "code",
      "metadata": {
        "ExecuteTime": {
          "end_time": "2020-11-09T07:04:40.424900Z",
          "start_time": "2020-11-09T07:04:40.419434Z"
        },
        "id": "qhd2DgzI-yS_",
        "outputId": "2e2e71b5-7cbd-4bea-b90a-dbfa123eb5f9"
      },
      "source": [
        "# One or more non-whitespace that ends with 'at'\n",
        "re.findall(r'\\w+at',\"The bat went splat\")"
      ],
      "execution_count": null,
      "outputs": [
        {
          "output_type": "execute_result",
          "data": {
            "text/plain": [
              "['bat', 'splat']"
            ]
          },
          "metadata": {
            "tags": []
          },
          "execution_count": 70
        }
      ]
    },
    {
      "cell_type": "code",
      "metadata": {
        "ExecuteTime": {
          "end_time": "2020-11-09T07:18:45.346269Z",
          "start_time": "2020-11-09T07:18:45.342379Z"
        },
        "id": "do2gkyW9-yTB",
        "outputId": "83d33c0a-ac8e-4eeb-cadc-e45e0278a339"
      },
      "source": [
        "# search patterns startwith\n",
        "my_text=\"Amazon's customer service phone number is 1-888-280-4331.You can call that number 24 hours a day\"\n",
        "print(re.findall(r'^\\w+',my_text))\n",
        "print(re.findall(r'^\\S+',my_text))\n"
      ],
      "execution_count": null,
      "outputs": [
        {
          "output_type": "stream",
          "text": [
            "['Amazon']\n",
            "[\"Amazon's\"]\n"
          ],
          "name": "stdout"
        }
      ]
    },
    {
      "cell_type": "code",
      "metadata": {
        "ExecuteTime": {
          "end_time": "2020-11-09T07:23:28.079146Z",
          "start_time": "2020-11-09T07:23:28.073932Z"
        },
        "id": "cYct65-L-yTE",
        "outputId": "fad948de-1c4e-4eb6-e897-7f570c5c9e40"
      },
      "source": [
        "# Search pattern ends with\n",
        "# One or more non-whitespace that ends with 'ay'\n",
        "re.findall(r'\\S+ay$',my_text)"
      ],
      "execution_count": null,
      "outputs": [
        {
          "output_type": "execute_result",
          "data": {
            "text/plain": [
              "['day']"
            ]
          },
          "metadata": {
            "tags": []
          },
          "execution_count": 99
        }
      ]
    },
    {
      "cell_type": "code",
      "metadata": {
        "ExecuteTime": {
          "end_time": "2020-11-09T07:21:36.589921Z",
          "start_time": "2020-11-09T07:21:36.585098Z"
        },
        "id": "BTyqxqYD-yTG",
        "outputId": "a75a7b63-96f5-408f-f6f5-71d0c21fbc45"
      },
      "source": [
        "# One or more non-whitespace that contains er\n",
        "re.findall(r'\\S+er',my_text)"
      ],
      "execution_count": null,
      "outputs": [
        {
          "output_type": "execute_result",
          "data": {
            "text/plain": [
              "['customer', 'ser', 'number', 'number']"
            ]
          },
          "metadata": {
            "tags": []
          },
          "execution_count": 96
        }
      ]
    },
    {
      "cell_type": "code",
      "metadata": {
        "ExecuteTime": {
          "end_time": "2020-11-09T07:40:07.198856Z",
          "start_time": "2020-11-09T07:40:07.194121Z"
        },
        "id": "Rx8tiI58-yTI",
        "outputId": "5e7cbd44-8bb8-46d8-837b-cb9dcc65bad1"
      },
      "source": [
        "my_text=\"Amazon's customer service phone-number is 1-888-280-4331.You can call that number 24 hours a day\"\n",
        "#re.findall(r'[\\w]+-[\\w]',my_text)\n",
        "re.findall(r'[\\w]+-[\\w]+',my_text)"
      ],
      "execution_count": null,
      "outputs": [
        {
          "output_type": "execute_result",
          "data": {
            "text/plain": [
              "['phone-number', '1-888', '280-4331']"
            ]
          },
          "metadata": {
            "tags": []
          },
          "execution_count": 118
        }
      ]
    },
    {
      "cell_type": "code",
      "metadata": {
        "id": "9q7njhyp-yTK"
      },
      "source": [
        ""
      ],
      "execution_count": null,
      "outputs": []
    },
    {
      "cell_type": "code",
      "metadata": {
        "id": "w9PwvtpH-yTN"
      },
      "source": [
        ""
      ],
      "execution_count": null,
      "outputs": []
    }
  ]
}