{
  "nbformat": 4,
  "nbformat_minor": 0,
  "metadata": {
    "kernelspec": {
      "display_name": "learn-env",
      "language": "python",
      "name": "learn-env"
    },
    "language_info": {
      "codemirror_mode": {
        "name": "ipython",
        "version": 3
      },
      "file_extension": ".py",
      "mimetype": "text/x-python",
      "name": "python",
      "nbconvert_exporter": "python",
      "pygments_lexer": "ipython3",
      "version": "3.7.6"
    },
    "toc": {
      "base_numbering": 1,
      "nav_menu": {},
      "number_sections": true,
      "sideBar": true,
      "skip_h1_title": false,
      "title_cell": "Table of Contents",
      "title_sidebar": "Contents",
      "toc_cell": true,
      "toc_position": {},
      "toc_section_display": true,
      "toc_window_display": false
    },
    "varInspector": {
      "cols": {
        "lenName": 16,
        "lenType": 16,
        "lenVar": 40
      },
      "kernels_config": {
        "python": {
          "delete_cmd_postfix": "",
          "delete_cmd_prefix": "del ",
          "library": "var_list.py",
          "varRefreshCmd": "print(var_dic_list())"
        },
        "r": {
          "delete_cmd_postfix": ") ",
          "delete_cmd_prefix": "rm(",
          "library": "var_list.r",
          "varRefreshCmd": "cat(var_dic_list()) "
        }
      },
      "types_to_exclude": [
        "module",
        "function",
        "builtin_function_or_method",
        "instance",
        "_Feature"
      ],
      "window_display": false
    },
    "colab": {
      "name": "REGEX.ipynb",
      "provenance": [],
      "include_colab_link": true
    }
  },
  "cells": [
    {
      "cell_type": "markdown",
      "metadata": {
        "id": "view-in-github",
        "colab_type": "text"
      },
      "source": [
        "<a href=\"https://colab.research.google.com/github/khuloodnasher/REGEX/blob/main/REGEX.ipynb\" target=\"_parent\"><img src=\"https://colab.research.google.com/assets/colab-badge.svg\" alt=\"Open In Colab\"/></a>"
      ]
    },
    {
      "cell_type": "markdown",
      "metadata": {
        "toc": true,
        "id": "Y_LSGTG-EZuZ"
      },
      "source": [
        "<h1>Table of Contents<span class=\"tocSkip\"></span></h1>\n",
        "<div class=\"toc\"><ul class=\"toc-item\"><li><span><a href=\"#To-get-the-span-of-all-my-pattern-instances,-we-will-use-iteration-through-'finditer'-method\" data-toc-modified-id=\"To-get-the-span-of-all-my-pattern-instances,-we-will-use-iteration-through-'finditer'-method-1\"><span class=\"toc-item-num\">1&nbsp;&nbsp;</span>To get the span of all my pattern instances, we will use iteration through 'finditer' method</a></span></li><li><span><a href=\"#OR-Operator\" data-toc-modified-id=\"OR-Operator-2\"><span class=\"toc-item-num\">2&nbsp;&nbsp;</span>OR Operator</a></span></li><li><span><a href=\"#Exclusion\" data-toc-modified-id=\"Exclusion-3\"><span class=\"toc-item-num\">3&nbsp;&nbsp;</span>Exclusion</a></span></li></ul></div>"
      ]
    },
    {
      "cell_type": "code",
      "metadata": {
        "ExecuteTime": {
          "end_time": "2020-11-10T07:29:22.579904Z",
          "start_time": "2020-11-10T07:29:22.576688Z"
        },
        "id": "qqegxGpyEZua"
      },
      "source": [
        "import re\n",
        "my_text=\"Amazon's customer service phone number is 1-888-280-4331.You can call that number 24 hours a day\"\n",
        "\n",
        "my_pattern= 'number'"
      ],
      "execution_count": null,
      "outputs": []
    },
    {
      "cell_type": "code",
      "metadata": {
        "ExecuteTime": {
          "end_time": "2020-11-08T04:01:20.719242Z",
          "start_time": "2020-11-08T04:01:20.712220Z"
        },
        "id": "UAesX_Q9EZue",
        "outputId": "87d705bb-b5d1-47f8-da1d-2d8a2914119b"
      },
      "source": [
        "# search method\n",
        "re.search(my_pattern,my_text)"
      ],
      "execution_count": null,
      "outputs": [
        {
          "output_type": "execute_result",
          "data": {
            "text/plain": [
              "<re.Match object; span=(32, 38), match='number'>"
            ]
          },
          "metadata": {
            "tags": []
          },
          "execution_count": 12
        }
      ]
    },
    {
      "cell_type": "code",
      "metadata": {
        "ExecuteTime": {
          "end_time": "2020-11-08T04:26:25.717715Z",
          "start_time": "2020-11-08T04:26:25.712126Z"
        },
        "id": "Fw3fmXvBEZuh",
        "outputId": "511bc196-3acb-469d-b608-71e8fb8f508d"
      },
      "source": [
        "# findall method\n",
        "re.findall(my_pattern,my_text)"
      ],
      "execution_count": null,
      "outputs": [
        {
          "output_type": "execute_result",
          "data": {
            "text/plain": [
              "['number', 'number']"
            ]
          },
          "metadata": {
            "tags": []
          },
          "execution_count": 16
        }
      ]
    },
    {
      "cell_type": "markdown",
      "metadata": {
        "id": "w2ISgzkwEZuk"
      },
      "source": [
        "### To get the span of all my pattern instances, we will use iteration through 'finditer' method"
      ]
    },
    {
      "cell_type": "code",
      "metadata": {
        "ExecuteTime": {
          "end_time": "2020-11-08T04:21:35.439302Z",
          "start_time": "2020-11-08T04:21:35.435920Z"
        },
        "id": "pMPrgdGhEZuk",
        "outputId": "2dd2cf04-4eea-4c81-f64e-6d6c2530b886"
      },
      "source": [
        "# itteration through finditer\n",
        "for pattern in re.finditer(my_pattern,my_text):\n",
        "    print(pattern.span())"
      ],
      "execution_count": null,
      "outputs": [
        {
          "output_type": "stream",
          "text": [
            "(32, 38)\n",
            "(75, 81)\n"
          ],
          "name": "stdout"
        }
      ]
    },
    {
      "cell_type": "code",
      "metadata": {
        "ExecuteTime": {
          "end_time": "2020-11-08T05:32:13.206962Z",
          "start_time": "2020-11-08T05:32:13.202557Z"
        },
        "id": "TkNESPWmEZun",
        "outputId": "14bbc9e5-e619-40f8-c565-581909b03992"
      },
      "source": [
        "# searching for phone number pattern\n",
        "phone = re.search(r'\\d-\\d\\d\\d-\\d\\d\\d-\\d\\d\\d\\d',my_text)\n",
        "phone"
      ],
      "execution_count": null,
      "outputs": [
        {
          "output_type": "execute_result",
          "data": {
            "text/plain": [
              "<re.Match object; span=(42, 56), match='1-888-280-4331'>"
            ]
          },
          "metadata": {
            "tags": []
          },
          "execution_count": 18
        }
      ]
    },
    {
      "cell_type": "code",
      "metadata": {
        "ExecuteTime": {
          "end_time": "2020-11-08T08:10:54.467327Z",
          "start_time": "2020-11-08T08:10:54.461477Z"
        },
        "id": "w9R06aTfEZup",
        "outputId": "cd12e203-98b1-416f-c7b1-ed47f8377fc0"
      },
      "source": [
        "#search with identifier and quantifier\n",
        "phone = re.search(r'\\d-\\d{3}-\\d{3}-\\d{4}',my_text)\n",
        "phone"
      ],
      "execution_count": null,
      "outputs": [
        {
          "output_type": "execute_result",
          "data": {
            "text/plain": [
              "<re.Match object; span=(42, 56), match='1-888-280-4331'>"
            ]
          },
          "metadata": {
            "tags": []
          },
          "execution_count": 19
        }
      ]
    },
    {
      "cell_type": "code",
      "metadata": {
        "ExecuteTime": {
          "end_time": "2020-11-09T03:36:56.904221Z",
          "start_time": "2020-11-09T03:36:56.898568Z"
        },
        "id": "Zpl1_3-lEZus",
        "outputId": "8587ab1f-0483-4768-8ff7-ef116c1f055a"
      },
      "source": [
        "#slicing with group method, make sure to use the paranthesis\n",
        "#group method start count at 1, group (0) and group() give the output of whole string\n",
        "phone = re.search(r'(\\d-)(\\d{3})-(\\d{3})-(\\d{4})',my_text)\n",
        "print(phone.group(0))\n",
        "print(phone.group(1))\n",
        "print(phone.group(2))\n",
        "print(phone.group(3))\n",
        "print(phone.group(4))\n",
        "print(phone.group())"
      ],
      "execution_count": null,
      "outputs": [
        {
          "output_type": "stream",
          "text": [
            "1-888-280-4331\n",
            "1-\n",
            "888\n",
            "280\n",
            "4331\n",
            "1-888-280-4331\n"
          ],
          "name": "stdout"
        }
      ]
    },
    {
      "cell_type": "markdown",
      "metadata": {
        "id": "mIrxLdFmEZuv"
      },
      "source": [
        "### OR Operator"
      ]
    },
    {
      "cell_type": "code",
      "metadata": {
        "ExecuteTime": {
          "end_time": "2020-11-09T05:13:50.654835Z",
          "start_time": "2020-11-09T05:13:50.649342Z"
        },
        "id": "RIXy61tLEZuv",
        "outputId": "16528c19-a087-46b3-a0a2-2d94e5c6bd66"
      },
      "source": [
        "# using | which means or\n",
        "my_text=\"Amazon's customer service phone number is 1-888-280-4331.You can call that number 24 hours a day\"\n",
        "print(re.findall('phone|number',my_text))\n",
        "\n",
        "print(re.search(r'phone|number',my_text))\n",
        "print(re.search(r'customer|phone',my_text))\n"
      ],
      "execution_count": null,
      "outputs": [
        {
          "output_type": "stream",
          "text": [
            "['phone', 'number', 'number']\n",
            "<re.Match object; span=(26, 31), match='phone'>\n",
            "<re.Match object; span=(9, 17), match='customer'>\n"
          ],
          "name": "stdout"
        }
      ]
    },
    {
      "cell_type": "code",
      "metadata": {
        "ExecuteTime": {
          "end_time": "2020-11-09T07:04:40.424900Z",
          "start_time": "2020-11-09T07:04:40.419434Z"
        },
        "id": "nkZcohYSEZu1",
        "outputId": "804891b4-3e45-47d1-b80e-3923cb9e9d35"
      },
      "source": [
        "# One or more non-whitespace that ends with 'at'\n",
        "re.findall(r'\\w+at',\"The bat went splat\")"
      ],
      "execution_count": null,
      "outputs": [
        {
          "output_type": "execute_result",
          "data": {
            "text/plain": [
              "['bat', 'splat']"
            ]
          },
          "metadata": {
            "tags": []
          },
          "execution_count": 70
        }
      ]
    },
    {
      "cell_type": "code",
      "metadata": {
        "ExecuteTime": {
          "end_time": "2020-11-09T07:18:45.346269Z",
          "start_time": "2020-11-09T07:18:45.342379Z"
        },
        "id": "zRsrNiDiEZu3",
        "outputId": "96ea2121-8604-47e7-d6bc-d9113d37e479"
      },
      "source": [
        "# search patterns startwith\n",
        "my_text=\"Amazon's customer service phone number is 1-888-280-4331.You can call that number 24 hours a day\"\n",
        "print(re.findall(r'^\\w+',my_text))\n",
        "print(re.findall(r'^\\S+',my_text))\n"
      ],
      "execution_count": null,
      "outputs": [
        {
          "output_type": "stream",
          "text": [
            "['Amazon']\n",
            "[\"Amazon's\"]\n"
          ],
          "name": "stdout"
        }
      ]
    },
    {
      "cell_type": "code",
      "metadata": {
        "ExecuteTime": {
          "end_time": "2020-11-09T07:23:28.079146Z",
          "start_time": "2020-11-09T07:23:28.073932Z"
        },
        "id": "KgwzwyxhEZu6",
        "outputId": "47078e8a-45a6-4cf6-f079-58c2344ef66e"
      },
      "source": [
        "# Search pattern ends with\n",
        "# One or more non-whitespace that ends with 'ay'\n",
        "re.findall(r'\\S+ay$',my_text)"
      ],
      "execution_count": null,
      "outputs": [
        {
          "output_type": "execute_result",
          "data": {
            "text/plain": [
              "['day']"
            ]
          },
          "metadata": {
            "tags": []
          },
          "execution_count": 99
        }
      ]
    },
    {
      "cell_type": "code",
      "metadata": {
        "ExecuteTime": {
          "end_time": "2020-11-09T07:21:36.589921Z",
          "start_time": "2020-11-09T07:21:36.585098Z"
        },
        "id": "G518bbvhEZu8",
        "outputId": "d76960d1-64b3-4dd6-96e6-b13ba5dcb847"
      },
      "source": [
        "# One or more non-whitespace that contains er\n",
        "re.findall(r'\\S+er',my_text)"
      ],
      "execution_count": null,
      "outputs": [
        {
          "output_type": "execute_result",
          "data": {
            "text/plain": [
              "['customer', 'ser', 'number', 'number']"
            ]
          },
          "metadata": {
            "tags": []
          },
          "execution_count": 96
        }
      ]
    },
    {
      "cell_type": "code",
      "metadata": {
        "ExecuteTime": {
          "end_time": "2020-11-09T07:40:07.198856Z",
          "start_time": "2020-11-09T07:40:07.194121Z"
        },
        "id": "pJ8MT7M9EZu_",
        "outputId": "8a05e68d-2ecb-437d-9afe-6f4e8a7b16f4"
      },
      "source": [
        "my_text=\"Amazon's customer service phone-number is 1-888-280-4331.You can call that number 24 hours a day\"\n",
        "re.findall(r'[\\w]+-[\\w]+',my_text)"
      ],
      "execution_count": null,
      "outputs": [
        {
          "output_type": "execute_result",
          "data": {
            "text/plain": [
              "['phone-number', '1-888', '280-4331']"
            ]
          },
          "metadata": {
            "tags": []
          },
          "execution_count": 118
        }
      ]
    },
    {
      "cell_type": "markdown",
      "metadata": {
        "id": "wt8ZFfdvEZvB"
      },
      "source": [
        ""
      ]
    },
    {
      "cell_type": "markdown",
      "metadata": {
        "id": "N5kYh6nIEZvC"
      },
      "source": [
        "### Exclusion\n",
        "Any content can be excluded if it is put inside square brackets and ^ "
      ]
    },
    {
      "cell_type": "code",
      "metadata": {
        "ExecuteTime": {
          "end_time": "2020-11-10T07:30:41.568193Z",
          "start_time": "2020-11-10T07:30:41.564001Z"
        },
        "id": "RyAbOeg0EZvC",
        "outputId": "07c3488b-077e-482a-853d-5bd2695c02bc"
      },
      "source": [
        "my_text=\"Amazon's customer service phone-number is 1-888-280-4331.You can call that number 24 hours a day\"\n",
        "\n",
        "print(re.findall(r'[^\\d]',my_text))\n"
      ],
      "execution_count": null,
      "outputs": [
        {
          "output_type": "stream",
          "text": [
            "['A', 'm', 'a', 'z', 'o', 'n', \"'\", 's', ' ', 'c', 'u', 's', 't', 'o', 'm', 'e', 'r', ' ', 's', 'e', 'r', 'v', 'i', 'c', 'e', ' ', 'p', 'h', 'o', 'n', 'e', '-', 'n', 'u', 'm', 'b', 'e', 'r', ' ', 'i', 's', ' ', '-', '-', '-', '.', 'Y', 'o', 'u', ' ', 'c', 'a', 'n', ' ', 'c', 'a', 'l', 'l', ' ', 't', 'h', 'a', 't', ' ', 'n', 'u', 'm', 'b', 'e', 'r', ' ', ' ', 'h', 'o', 'u', 'r', 's', ' ', 'a', ' ', 'd', 'a', 'y']\n"
          ],
          "name": "stdout"
        }
      ]
    },
    {
      "cell_type": "code",
      "metadata": {
        "id": "HzfVP8RqEZvF"
      },
      "source": [
        ""
      ],
      "execution_count": null,
      "outputs": []
    }
  ]
}